{
 "cells": [
  {
   "cell_type": "code",
   "execution_count": 8,
   "id": "de891ffb",
   "metadata": {},
   "outputs": [
    {
     "name": "stdout",
     "output_type": "stream",
     "text": [
      "Epoch 1/10\n",
      "782/782 [==============================] - 33s 41ms/step - loss: 1.6253 - accuracy: 0.4121 - val_loss: 1.3616 - val_accuracy: 0.5225\n",
      "Epoch 2/10\n",
      "782/782 [==============================] - 32s 41ms/step - loss: 1.3276 - accuracy: 0.5319 - val_loss: 1.1871 - val_accuracy: 0.5888\n",
      "Epoch 3/10\n",
      "782/782 [==============================] - 31s 40ms/step - loss: 1.2159 - accuracy: 0.5751 - val_loss: 1.1265 - val_accuracy: 0.6114\n",
      "Epoch 4/10\n",
      "782/782 [==============================] - 31s 40ms/step - loss: 1.1447 - accuracy: 0.6000 - val_loss: 1.0530 - val_accuracy: 0.6383\n",
      "Epoch 5/10\n",
      "782/782 [==============================] - 31s 40ms/step - loss: 1.0968 - accuracy: 0.6186 - val_loss: 1.0143 - val_accuracy: 0.6592\n",
      "Epoch 6/10\n",
      "782/782 [==============================] - 33s 42ms/step - loss: 1.0609 - accuracy: 0.6324 - val_loss: 0.9940 - val_accuracy: 0.6640\n",
      "Epoch 7/10\n",
      "782/782 [==============================] - 32s 41ms/step - loss: 1.0311 - accuracy: 0.6452 - val_loss: 0.9571 - val_accuracy: 0.6722\n",
      "Epoch 8/10\n",
      "782/782 [==============================] - 35s 44ms/step - loss: 1.0015 - accuracy: 0.6529 - val_loss: 0.9268 - val_accuracy: 0.6883\n",
      "Epoch 9/10\n",
      "782/782 [==============================] - 33s 42ms/step - loss: 0.9797 - accuracy: 0.6622 - val_loss: 0.9220 - val_accuracy: 0.6847\n",
      "Epoch 10/10\n",
      "782/782 [==============================] - 33s 42ms/step - loss: 0.9602 - accuracy: 0.6656 - val_loss: 0.9137 - val_accuracy: 0.6912\n"
     ]
    }
   ],
   "source": [
    "import tensorflow as tf\n",
    "from tensorflow import keras\n",
    "from tensorflow.keras import layers\n",
    "\n",
    "# Load the data\n",
    "(x_train, y_train), (x_test, y_test) = keras.datasets.cifar10.load_data()\n",
    "\n",
    "# Preprocess the data\n",
    "x_train = x_train.astype(\"float32\") / 255.0\n",
    "x_test = x_test.astype(\"float32\") / 255.0\n",
    "\n",
    "# Convert labels to one-hot encoding format\n",
    "y_train = keras.utils.to_categorical(y_train, 10)\n",
    "y_test = keras.utils.to_categorical(y_test, 10)\n",
    "\n",
    "# Define the model architecture\n",
    "model = keras.Sequential([\n",
    "        keras.Input(shape=(32, 32, 3)),\n",
    "        layers.Conv2D(32, kernel_size=(3, 3), activation=\"relu\"),\n",
    "        layers.MaxPooling2D(pool_size=(2, 2)),\n",
    "        layers.Conv2D(64, kernel_size=(3, 3), activation=\"relu\"),\n",
    "        layers.MaxPooling2D(pool_size=(2, 2)),\n",
    "        layers.Flatten(),\n",
    "        layers.Dropout(0.5),\n",
    "        layers.Dense(10, activation=\"softmax\"),\n",
    "        ])\n",
    "\n",
    "# Compile the model\n",
    "model.compile(loss=\"categorical_crossentropy\", optimizer=\"adam\",metrics=[\"accuracy\"])\n",
    "\n",
    "# Train the model\n",
    "model.fit(x_train, y_train, batch_size=64, epochs=10, validation_data=(x_test,y_test))\n",
    "\n",
    "# Save the trained model to a file\n",
    "model.save(\"cifar10_model.h5\")"
   ]
  },
  {
   "cell_type": "code",
   "execution_count": 9,
   "id": "bb55b6fd",
   "metadata": {
    "scrolled": true
   },
   "outputs": [
    {
     "name": "stdout",
     "output_type": "stream",
     "text": [
      "1/1 [==============================] - 0s 105ms/step\n",
      "Predicted class label: 1\n"
     ]
    }
   ],
   "source": [
    "import numpy as np\n",
    "from PIL import Image\n",
    "\n",
    "# Load the saved model\n",
    "model = keras.models.load_model(\"cifar10_model.h5\")\n",
    "\n",
    "# Load and preprocess the test image\n",
    "img = Image.open(\"C:\\\\Users\\\\username\\\\two.png\")\n",
    "img = img.resize((32, 32))\n",
    "img_array = np.array(img)\n",
    "img_array = img_array.astype(\"float32\") / 255.0\n",
    "img_array = np.expand_dims(img_array, axis=0)\n",
    "\n",
    "# Make predictions on the test image\n",
    "predictions = model.predict(img_array)\n",
    "\n",
    "# Get the predicted class label\n",
    "class_label = np.argmax(predictions)\n",
    "\n",
    "# Print the predicted class label\n",
    "print(\"Predicted class label:\", class_label)"
   ]
  },
  {
   "cell_type": "code",
   "execution_count": null,
   "id": "e156abc1",
   "metadata": {},
   "outputs": [],
   "source": []
  }
 ],
 "metadata": {
  "kernelspec": {
   "display_name": "Python 3 (ipykernel)",
   "language": "python",
   "name": "python3"
  },
  "language_info": {
   "codemirror_mode": {
    "name": "ipython",
    "version": 3
   },
   "file_extension": ".py",
   "mimetype": "text/x-python",
   "name": "python",
   "nbconvert_exporter": "python",
   "pygments_lexer": "ipython3",
   "version": "3.9.7"
  }
 },
 "nbformat": 4,
 "nbformat_minor": 5
}
