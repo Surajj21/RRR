{
 "cells": [
  {
   "cell_type": "markdown",
   "id": "9db826cb",
   "metadata": {},
   "source": [
    "pip install tensorflow "
   ]
  },
  {
   "cell_type": "code",
   "execution_count": 1,
   "id": "5fad55c8",
   "metadata": {},
   "outputs": [
    {
     "name": "stdout",
     "output_type": "stream",
     "text": [
      "Optimizer: sgd\n",
      "Test loss: 0.7447302937507629\n",
      "Test accuracy: 0.7666666507720947\n",
      "Optimizer: adam\n",
      "Test loss: 0.5868259072303772\n",
      "Test accuracy: 0.8333333134651184\n",
      "Optimizer: rmsprop\n",
      "Test loss: 0.4680675268173218\n",
      "Test accuracy: 0.8666666746139526\n"
     ]
    }
   ],
   "source": [
    "import tensorflow as tf\n",
    "import numpy as np\n",
    "from sklearn.datasets import load_iris\n",
    "from sklearn.model_selection import train_test_split\n",
    "from sklearn.preprocessing import LabelBinarizer\n",
    "# Load Iris dataset\n",
    "iris = load_iris() # Loading Iris dataset into a variable.\n",
    "X = iris.data # Features of the dataset.\n",
    "y = iris.target # Class labels of the dataset.\n",
    "# One-hot encode labels\n",
    "lb = LabelBinarizer() # Creating an instance of LabelBinarizer class for one-hot encoding.\n",
    "y = lb.fit_transform(y) # One-hot encoding the class labels.\n",
    "# Split data into train and test sets\n",
    "X_train, X_test, y_train, y_test = train_test_split(X, y, test_size=0.2,random_state=42)\n",
    "# Splitting the dataset into training and testing sets with test size of 20%.\n",
    "# Define model architecture\n",
    "model = tf.keras.Sequential([\n",
    "        # First hidden layer with 16 neurons and input shape of 4 features. ReLU activation function is used.\n",
    "        tf.keras.layers.Dense(16, input_shape=(4,), activation='relu'), \n",
    "        # Second hidden layer with 8 neurons. ReLU activation function is used.\n",
    "        tf.keras.layers.Dense(8, activation='relu'), \n",
    "        # Output layer with 3 neurons for 3 classes. Softmax activation function is used for multiclass␣classification task.\n",
    "        tf.keras.layers.Dense(3, activation='softmax') \n",
    "        ])\n",
    "# Compile model with different optimizers\n",
    "optimizers = ['sgd', 'adam', 'rmsprop'] # List of optimizers to be used for training the model.\n",
    "for optimizer in optimizers: # Looping over each optimizer.\n",
    "    # Compiling the model with 'categorical_crossentropy' as the loss function,the current optimizer and accuracy as the metric to be calculated.\n",
    "    model.compile(loss='categorical_crossentropy', optimizer=optimizer,metrics=['accuracy'])\n",
    "    # Train model\n",
    "    history = model.fit(X_train, y_train, validation_data=(X_test, y_test),epochs=50, verbose=0) \n",
    "    # Training the model for 50 epochs with verbose=0 to suppress the output.\n",
    "    \n",
    "    # Evaluate model\n",
    "    loss, accuracy = model.evaluate(X_test, y_test, verbose=0) # Evaluating the model on the test set and calculating the loss and accuracy.\n",
    "    print('Optimizer:', optimizer) # Printing the optimizer name.\n",
    "    print('Test loss:', loss) # Printing the loss value on the test set.\n",
    "    print('Test accuracy:', accuracy) # Printing the accuracy value on the test set."
   ]
  },
  {
   "cell_type": "code",
   "execution_count": 2,
   "id": "61f4f708",
   "metadata": {},
   "outputs": [
    {
     "name": "stdout",
     "output_type": "stream",
     "text": [
      "\n",
      "Input values for the flower attributes:\n",
      "Sepal length (cm): 5\n",
      "Sepal width (cm): 10\n",
      "Petal length (cm): 11\n",
      "Petal width (cm): 6\n",
      "1/1 [==============================] - 0s 111ms/step\n",
      "\n",
      "Predicted class:  virginica\n"
     ]
    }
   ],
   "source": [
    "# Allow user to input values for the flower attributes\n",
    "print('\\nInput values for the flower attributes:')\n",
    "sepal_length = float(input('Sepal length (cm): '))\n",
    "sepal_width = float(input('Sepal width (cm): '))\n",
    "petal_length = float(input('Petal length (cm): '))\n",
    "petal_width = float(input('Petal width (cm): '))\n",
    "# Predict class of flower based on input values\n",
    "input_values = np.array([[sepal_length, sepal_width, petal_length,petal_width]])\n",
    "prediction = model.predict(input_values)\n",
    "predicted_class = np.argmax(prediction)\n",
    "class_names = iris.target_names\n",
    "print('\\nPredicted class: ', class_names[predicted_class])"
   ]
  },
  {
   "cell_type": "code",
   "execution_count": 3,
   "id": "12d447da",
   "metadata": {},
   "outputs": [
    {
     "name": "stdout",
     "output_type": "stream",
     "text": [
      "Optimizer: sgd\n",
      "Test loss: 0.3948025703430176\n",
      "Test accuracy: 0.8666666746139526\n",
      "Memory requirement: 0.00 MB\n",
      "Optimizer: adam\n",
      "Test loss: 0.23571959137916565\n",
      "Test accuracy: 0.9333333373069763\n",
      "Memory requirement: 0.00 MB\n",
      "Optimizer: rmsprop\n",
      "Test loss: 0.13650912046432495\n",
      "Test accuracy: 0.9666666388511658\n",
      "Memory requirement: 0.00 MB\n"
     ]
    }
   ],
   "source": [
    "#memory ---------------------------------------------\n",
    "optimizers = {\n",
    "                'sgd': tf.keras.optimizers.SGD(),\n",
    "                'adam': tf.keras.optimizers.Adam(),\n",
    "                'rmsprop': tf.keras.optimizers.RMSprop()\n",
    "            }\n",
    "# Compile model with different optimizers\n",
    "for optimizer_name, optimizer in optimizers.items():\n",
    "    model.compile(loss='categorical_crossentropy', optimizer=optimizer, metrics=['accuracy'])\n",
    "    # Train model\n",
    "    history = model.fit(X_train, y_train, validation_data=(X_test, y_test), epochs=50, verbose=0)\n",
    "    # Evaluate model\n",
    "    loss, accuracy = model.evaluate(X_test, y_test, verbose=0)\n",
    "    print('Optimizer:', optimizer_name)\n",
    "    print('Test loss:', loss)\n",
    "    print('Test accuracy:', accuracy)\n",
    "    # Estimate memory requirement\n",
    "    size_in_bytes = model.count_params() * 4 # each parameter is a 32-bit float\n",
    "    size_in_mb = size_in_bytes / (1024 * 1024)\n",
    "    print(f'Memory requirement: {size_in_mb:.2f} MB')"
   ]
  },
  {
   "cell_type": "code",
   "execution_count": null,
   "id": "af125040",
   "metadata": {},
   "outputs": [],
   "source": []
  }
 ],
 "metadata": {
  "kernelspec": {
   "display_name": "Python 3 (ipykernel)",
   "language": "python",
   "name": "python3"
  },
  "language_info": {
   "codemirror_mode": {
    "name": "ipython",
    "version": 3
   },
   "file_extension": ".py",
   "mimetype": "text/x-python",
   "name": "python",
   "nbconvert_exporter": "python",
   "pygments_lexer": "ipython3",
   "version": "3.9.7"
  }
 },
 "nbformat": 4,
 "nbformat_minor": 5
}
