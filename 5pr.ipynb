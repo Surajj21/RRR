{
 "cells": [
  {
   "cell_type": "code",
   "execution_count": 1,
   "id": "ddcd831b",
   "metadata": {},
   "outputs": [
    {
     "name": "stdout",
     "output_type": "stream",
     "text": [
      "Epoch 1/10\n",
      "469/469 [==============================] - 27s 55ms/step - loss: 0.2451 - accuracy: 0.9287 - val_loss: 0.0838 - val_accuracy: 0.9747\n",
      "Epoch 2/10\n",
      "469/469 [==============================] - 24s 52ms/step - loss: 0.0677 - accuracy: 0.9793 - val_loss: 0.0450 - val_accuracy: 0.9859\n",
      "Epoch 3/10\n",
      "469/469 [==============================] - 26s 55ms/step - loss: 0.0467 - accuracy: 0.9857 - val_loss: 0.0399 - val_accuracy: 0.9869\n",
      "Epoch 4/10\n",
      "469/469 [==============================] - 24s 51ms/step - loss: 0.0373 - accuracy: 0.9883 - val_loss: 0.0337 - val_accuracy: 0.9896\n",
      "Epoch 5/10\n",
      "469/469 [==============================] - 26s 55ms/step - loss: 0.0297 - accuracy: 0.9909 - val_loss: 0.0313 - val_accuracy: 0.9895\n",
      "Epoch 6/10\n",
      "469/469 [==============================] - 27s 57ms/step - loss: 0.0240 - accuracy: 0.9925 - val_loss: 0.0306 - val_accuracy: 0.9891\n",
      "Epoch 7/10\n",
      "469/469 [==============================] - 25s 53ms/step - loss: 0.0207 - accuracy: 0.9935 - val_loss: 0.0296 - val_accuracy: 0.9907\n",
      "Epoch 8/10\n",
      "469/469 [==============================] - 24s 52ms/step - loss: 0.0169 - accuracy: 0.9945 - val_loss: 0.0338 - val_accuracy: 0.9890\n",
      "Epoch 9/10\n",
      "469/469 [==============================] - 25s 54ms/step - loss: 0.0144 - accuracy: 0.9954 - val_loss: 0.0295 - val_accuracy: 0.9912\n",
      "Epoch 10/10\n",
      "469/469 [==============================] - 25s 54ms/step - loss: 0.0120 - accuracy: 0.9962 - val_loss: 0.0374 - val_accuracy: 0.9889\n",
      "313/313 [==============================] - 2s 5ms/step - loss: 0.0374 - accuracy: 0.9889\n",
      "Test accuracy: 0.9889000058174133\n",
      "1/1 [==============================] - 0s 129ms/step\n",
      "Sample image true label: 7\n",
      "Sample image predicted label: 7\n"
     ]
    },
    {
     "data": {
      "image/png": "[encoded data removed]",
      "text/plain": [
       "<Figure size 432x288 with 1 Axes>"
      ]
     },
     "metadata": {
      "needs_background": "light"
     },
     "output_type": "display_data"
    }
   ],
   "source": [
    "import tensorflow as tf\n",
    "from tensorflow import keras\n",
    "import numpy as np\n",
    "import matplotlib.pyplot as plt\n",
    "\n",
    "# Load the MNIST dataset\n",
    "(x_train, y_train), (x_test, y_test) = keras.datasets.mnist.load_data()\n",
    "\n",
    "# Preprocess the data\n",
    "x_train = x_train.astype(\"float32\") / 255.0\n",
    "x_test = x_test.astype(\"float32\") / 255.0\n",
    "x_train = np.expand_dims(x_train, -1)\n",
    "x_test = np.expand_dims(x_test, -1)\n",
    "\n",
    "# Define the CNN architecture\n",
    "model = keras.models.Sequential([\n",
    "        keras.layers.Conv2D(32, (3, 3), activation=\"relu\", input_shape=(28, 28, 1)),\n",
    "        keras.layers.MaxPooling2D((2, 2)),\n",
    "        keras.layers.Conv2D(64, (3, 3), activation=\"relu\"),\n",
    "        keras.layers.MaxPooling2D((2, 2)),\n",
    "        keras.layers.Flatten(),\n",
    "        keras.layers.Dense(64, activation=\"relu\"),\n",
    "        keras.layers.Dense(10, activation=\"softmax\")\n",
    "        ])\n",
    "\n",
    "# Compile the model\n",
    "model.compile(optimizer=\"adam\", loss=\"sparse_categorical_crossentropy\",metrics=[\"accuracy\"])\n",
    "\n",
    "# Train the model\n",
    "history = model.fit(x_train, y_train, epochs=10, batch_size=128,validation_data=(x_test, y_test))\n",
    "\n",
    "# Evaluate the model on the test data\n",
    "test_loss, test_acc = model.evaluate(x_test, y_test)\n",
    "print(\"Test accuracy:\", test_acc)\n",
    "\n",
    "# Show predictions for a sample input image\n",
    "sample_img = x_test[0]\n",
    "sample_label = y_test[0]\n",
    "sample_img = np.expand_dims(sample_img, 0)\n",
    "pred = model.predict(sample_img)\n",
    "pred_label = np.argmax(pred)\n",
    "print(\"Sample image true label:\", sample_label)\n",
    "print(\"Sample image predicted label:\", pred_label)\n",
    "\n",
    "# Display the sample image\n",
    "plt.imshow(sample_img.squeeze(), cmap='gray')\n",
    "plt.show()"
   ]
  },
  {
   "cell_type": "code",
   "execution_count": null,
   "id": "b5ada739",
   "metadata": {},
   "outputs": [],
   "source": []
  }
 ],
 "metadata": {
  "kernelspec": {
   "display_name": "Python 3 (ipykernel)",
   "language": "python",
   "name": "python3"
  },
  "language_info": {
   "codemirror_mode": {
    "name": "ipython",
    "version": 3
   },
   "file_extension": ".py",
   "mimetype": "text/x-python",
   "name": "python",
   "nbconvert_exporter": "python",
   "pygments_lexer": "ipython3",
   "version": "3.9.7"
  }
 },
 "nbformat": 4,
 "nbformat_minor": 5
}
