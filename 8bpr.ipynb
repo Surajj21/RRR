{
 "cells": [
  {
   "cell_type": "code",
   "execution_count": 3,
   "id": "310d755b",
   "metadata": {},
   "outputs": [
    {
     "name": "stdout",
     "output_type": "stream",
     "text": [
      "Epoch 1/10\n",
      "156/156 [==============================] - 110s 401ms/step - loss: 0.6845 - accuracy: 0.5681 - val_loss: 0.6879 - val_accuracy: 0.5523\n",
      "Epoch 2/10\n",
      "156/156 [==============================] - 55s 352ms/step - loss: 0.6846 - accuracy: 0.5689 - val_loss: 0.6882 - val_accuracy: 0.5523\n",
      "Epoch 3/10\n",
      "156/156 [==============================] - 54s 344ms/step - loss: 0.6841 - accuracy: 0.5689 - val_loss: 0.6885 - val_accuracy: 0.5523\n",
      "Epoch 4/10\n",
      "156/156 [==============================] - 55s 350ms/step - loss: 0.6839 - accuracy: 0.5689 - val_loss: 0.6897 - val_accuracy: 0.5523\n",
      "Epoch 5/10\n",
      "156/156 [==============================] - 60s 385ms/step - loss: 0.6840 - accuracy: 0.5689 - val_loss: 0.6878 - val_accuracy: 0.5523\n",
      "Epoch 6/10\n",
      "156/156 [==============================] - 56s 361ms/step - loss: 0.6840 - accuracy: 0.5689 - val_loss: 0.6893 - val_accuracy: 0.5523\n",
      "Epoch 7/10\n",
      "156/156 [==============================] - 55s 350ms/step - loss: 0.6839 - accuracy: 0.5693 - val_loss: 0.6886 - val_accuracy: 0.5523\n",
      "Epoch 8/10\n",
      "156/156 [==============================] - 54s 346ms/step - loss: 0.6841 - accuracy: 0.5693 - val_loss: 0.6879 - val_accuracy: 0.5523\n",
      "Epoch 9/10\n",
      "156/156 [==============================] - 54s 347ms/step - loss: 0.6839 - accuracy: 0.5693 - val_loss: 0.6880 - val_accuracy: 0.5523\n",
      "Epoch 10/10\n",
      "156/156 [==============================] - 51s 327ms/step - loss: 0.6839 - accuracy: 0.5693 - val_loss: 0.6879 - val_accuracy: 0.5523\n",
      "44/44 [==============================] - 4s 66ms/step - loss: 0.6807 - accuracy: 0.5809\n",
      "Test loss: 0.6806935667991638\n",
      "Test accuracy: 0.5809248685836792\n"
     ]
    },
    {
     "data": {
      "image/png": "[encoded data removed]",
      "text/plain": [
       "<Figure size 432x288 with 1 Axes>"
      ]
     },
     "metadata": {
      "needs_background": "light"
     },
     "output_type": "display_data"
    },
    {
     "name": "stdout",
     "output_type": "stream",
     "text": [
      "44/44 [==============================] - 8s 66ms/step\n",
      "Text: brokeback mountain was beautiful <OOV> <OOV> <OOV> <OOV> <OOV> <OOV> <OOV> <OOV> <OOV> <OOV> <OOV> <OOV> <OOV> <OOV> <OOV> <OOV> <OOV> <OOV> <OOV> <OOV> <OOV> <OOV> <OOV> <OOV> <OOV> <OOV> <OOV> <OOV> <OOV> <OOV> <OOV> <OOV> <OOV> <OOV> <OOV> <OOV> <OOV> <OOV> <OOV> <OOV> <OOV> <OOV> <OOV> <OOV> <OOV> <OOV> <OOV> <OOV> <OOV> <OOV> <OOV> <OOV> <OOV> <OOV> <OOV> <OOV> <OOV> <OOV> <OOV> <OOV> <OOV> <OOV> <OOV> <OOV> <OOV> <OOV> <OOV> <OOV> <OOV> <OOV> <OOV> <OOV> <OOV> <OOV> <OOV> <OOV> <OOV> <OOV> <OOV> <OOV> <OOV> <OOV> <OOV> <OOV> <OOV> <OOV> <OOV> <OOV> <OOV> <OOV> <OOV> <OOV> <OOV> <OOV> <OOV> <OOV>\n",
      "Actual label: 1\n",
      "Predicted label: 1\n"
     ]
    }
   ],
   "source": [
    "import pandas as pd\n",
    "import numpy as np\n",
    "import tensorflow as tf\n",
    "from tensorflow.keras.preprocessing.text import Tokenizer\n",
    "from tensorflow.keras.preprocessing.sequence import pad_sequences\n",
    "from sklearn.model_selection import train_test_split\n",
    "import matplotlib.pyplot as plt\n",
    "\n",
    "#Load data\n",
    "data = pd.read_csv(\"C:\\\\Users\\\\username\\\\training.txt\", delimiter=\"\\t\", names=[\"label\", \"text\"])\n",
    "\n",
    "# Split data into training and testing sets\n",
    "X_train, X_test, y_train, y_test = train_test_split(data[\"text\"],data[\"label\"], test_size=0.2, random_state=42)\n",
    "\n",
    "# Tokenize words\n",
    "tokenizer = Tokenizer(num_words=5000, oov_token=\"<OOV>\")\n",
    "tokenizer.fit_on_texts(X_train)\n",
    "\n",
    "# Convert words to sequences\n",
    "X_train_seq = tokenizer.texts_to_sequences(X_train)\n",
    "X_test_seq = tokenizer.texts_to_sequences(X_test)\n",
    "\n",
    "# Pad sequences to have same length\n",
    "max_length = 100\n",
    "X_train_pad = pad_sequences(X_train_seq, maxlen=max_length, padding=\"post\",truncating=\"post\")\n",
    "X_test_pad = pad_sequences(X_test_seq, maxlen=max_length, padding=\"post\",truncating=\"post\")\n",
    "\n",
    "# Build LSTM model\n",
    "model = tf.keras.models.Sequential([\n",
    "        tf.keras.layers.Embedding(input_dim=5000, output_dim=32,input_length=max_length),\n",
    "        tf.keras.layers.LSTM(units=64, dropout=0.2, recurrent_dropout=0.2),\n",
    "        tf.keras.layers.Dense(1, activation=\"sigmoid\")\n",
    "        ])\n",
    "\n",
    "# Compile model\n",
    "model.compile(optimizer=\"adam\", loss=\"binary_crossentropy\",metrics=[\"accuracy\"])\n",
    "\n",
    "# Train model\n",
    "history = model.fit(X_train_pad, y_train, epochs=10, batch_size=32,validation_split=0.1)\n",
    "\n",
    "# Evaluate model on test data\n",
    "loss, accuracy = model.evaluate(X_test_pad, y_test)\n",
    "print(\"Test loss:\", loss)\n",
    "print(\"Test accuracy:\", accuracy)\n",
    "\n",
    "# Plot training and validation accuracy over time\n",
    "plt.plot(history.history[\"accuracy\"], label=\"Training accuracy\")\n",
    "plt.plot(history.history[\"val_accuracy\"], label=\"Validation accuracy\")\n",
    "plt.xlabel(\"Epoch\")\n",
    "plt.ylabel(\"Accuracy\")\n",
    "plt.legend()\n",
    "plt.show()\n",
    "\n",
    "# Make predictions on test data\n",
    "predictions = model.predict(X_test_pad)\n",
    "\n",
    "# Print input, output, and prediction for random example\n",
    "index = np.random.randint(0, len(X_test_pad))\n",
    "text = tokenizer.sequences_to_texts([X_test_pad[index]])[0]\n",
    "label = y_test.values[index]\n",
    "prediction = predictions[index][0]\n",
    "print(\"Text:\", text)\n",
    "print(\"Actual label:\", label)\n",
    "print(\"Predicted label:\", round(prediction))"
   ]
  },
  {
   "cell_type": "code",
   "execution_count": null,
   "id": "e1550f87",
   "metadata": {},
   "outputs": [],
   "source": []
  }
 ],
 "metadata": {
  "kernelspec": {
   "display_name": "Python 3 (ipykernel)",
   "language": "python",
   "name": "python3"
  },
  "language_info": {
   "codemirror_mode": {
    "name": "ipython",
    "version": 3
   },
   "file_extension": ".py",
   "mimetype": "text/x-python",
   "name": "python",
   "nbconvert_exporter": "python",
   "pygments_lexer": "ipython3",
   "version": "3.9.7"
  }
 },
 "nbformat": 4,
 "nbformat_minor": 5
}
