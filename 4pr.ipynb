{
 "cells": [
  {
   "cell_type": "code",
   "execution_count": 1,
   "id": "739279a2",
   "metadata": {},
   "outputs": [
    {
     "name": "stdout",
     "output_type": "stream",
     "text": [
      "Epoch 1/10\n",
      "469/469 [==============================] - 18s 27ms/step - loss: 0.1974 - val_loss: 0.1385\n",
      "Epoch 2/10\n",
      "469/469 [==============================] - 14s 29ms/step - loss: 0.1296 - val_loss: 0.1203\n",
      "Epoch 3/10\n",
      "469/469 [==============================] - 12s 26ms/step - loss: 0.1177 - val_loss: 0.1122\n",
      "Epoch 4/10\n",
      "469/469 [==============================] - 12s 25ms/step - loss: 0.1109 - val_loss: 0.1068\n",
      "Epoch 5/10\n",
      "469/469 [==============================] - 12s 26ms/step - loss: 0.1062 - val_loss: 0.1032\n",
      "Epoch 6/10\n",
      "469/469 [==============================] - 12s 26ms/step - loss: 0.1031 - val_loss: 0.1005\n",
      "Epoch 7/10\n",
      "469/469 [==============================] - 12s 25ms/step - loss: 0.1009 - val_loss: 0.0987\n",
      "Epoch 8/10\n",
      "469/469 [==============================] - 12s 25ms/step - loss: 0.0991 - val_loss: 0.0972\n",
      "Epoch 9/10\n",
      "469/469 [==============================] - 12s 26ms/step - loss: 0.0973 - val_loss: 0.0955\n",
      "Epoch 10/10\n",
      "469/469 [==============================] - 12s 26ms/step - loss: 0.0957 - val_loss: 0.0937\n",
      "313/313 [==============================] - 3s 7ms/step\n"
     ]
    },
    {
     "data": {
      "image/png": "[encoded data removed]",
      "text/plain": [
       "<Figure size 1440x288 with 20 Axes>"
      ]
     },
     "metadata": {
      "needs_background": "light"
     },
     "output_type": "display_data"
    }
   ],
   "source": [
    "import tensorflow as tf\n",
    "from tensorflow import keras\n",
    "import numpy as np\n",
    "import matplotlib.pyplot as plt\n",
    "\n",
    "# Load the MNIST dataset\n",
    "(x_train, _), (x_test, _) = keras.datasets.mnist.load_data()\n",
    "\n",
    "# Normalize the pixel values to be between 0 and 1\n",
    "x_train = x_train.astype(\"float32\") / 255.0\n",
    "x_test = x_test.astype(\"float32\") / 255.0\n",
    "\n",
    "# Define the encoder architecture\n",
    "encoder = keras.models.Sequential([\n",
    "          keras.layers.Flatten(input_shape=[28, 28]),\n",
    "          keras.layers.Dense(128, activation=\"relu\"),\n",
    "          keras.layers.Dense(64, activation=\"relu\"),\n",
    "          keras.layers.Dense(32, activation=\"relu\"),\n",
    "          ])\n",
    "\n",
    "# Define the decoder architecture\n",
    "decoder = keras.models.Sequential([\n",
    "          keras.layers.Dense(64, activation=\"relu\", input_shape=[32]),\n",
    "          keras.layers.Dense(128, activation=\"relu\"),\n",
    "          keras.layers.Dense(28 * 28, activation=\"sigmoid\"),\n",
    "          keras.layers.Reshape([28, 28]),\n",
    "          ])\n",
    "\n",
    "# Combine the encoder and decoder into an autoencoder model\n",
    "autoencoder = keras.models.Sequential([encoder, decoder])\n",
    "\n",
    "# Compile the autoencoder model\n",
    "autoencoder.compile(loss=\"binary_crossentropy\", optimizer=keras.optimizers.Adam(learning_rate=0.001))\n",
    "\n",
    "# Train the autoencoder model\n",
    "history = autoencoder.fit(x_train, x_train, epochs=10, batch_size=128,validation_data=(x_test, x_test))\n",
    "\n",
    "# Use the trained autoencoder to predict the reconstructed images for the test data\n",
    "decoded_imgs = autoencoder.predict(x_test)\n",
    "\n",
    "#Plot some of the original test images and their reconstructed counterparts\n",
    "n = 10 # number of images to display\n",
    "plt.figure(figsize=(20, 4))\n",
    "for i in range(n):\n",
    "    \n",
    "    # Display original images\n",
    "    ax = plt.subplot(2, n, i + 1)\n",
    "    plt.imshow(x_test[i])\n",
    "    plt.gray()\n",
    "    ax.get_xaxis().set_visible(False)\n",
    "    ax.get_yaxis().set_visible(False)\n",
    "    \n",
    "    # Display reconstructed images\n",
    "    ax = plt.subplot(2, n, i + n + 1)\n",
    "    plt.imshow(decoded_imgs[i])\n",
    "    plt.gray()\n",
    "    ax.get_xaxis().set_visible(False)\n",
    "    ax.get_yaxis().set_visible(False)\n",
    "    \n",
    "plt.show()"
   ]
  },
  {
   "cell_type": "code",
   "execution_count": null,
   "id": "3bd09a32",
   "metadata": {},
   "outputs": [],
   "source": []
  }
 ],
 "metadata": {
  "kernelspec": {
   "display_name": "Python 3 (ipykernel)",
   "language": "python",
   "name": "python3"
  },
  "language_info": {
   "codemirror_mode": {
    "name": "ipython",
    "version": 3
   },
   "file_extension": ".py",
   "mimetype": "text/x-python",
   "name": "python",
   "nbconvert_exporter": "python",
   "pygments_lexer": "ipython3",
   "version": "3.9.7"
  }
 },
 "nbformat": 4,
 "nbformat_minor": 5
}
